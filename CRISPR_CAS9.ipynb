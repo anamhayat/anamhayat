{
  "nbformat": 4,
  "nbformat_minor": 0,
  "metadata": {
    "colab": {
      "name": "CRISPR-CAS9.ipynb",
      "provenance": [],
      "toc_visible": true,
      "mount_file_id": "15Fkd4NwxHCrLeIt5d7Ane-4jcqAEqBer",
      "authorship_tag": "ABX9TyP4DF+30Y2JwkV88ki7lcaF",
      "include_colab_link": true
    },
    "kernelspec": {
      "name": "python3",
      "display_name": "Python 3"
    },
    "language_info": {
      "name": "python"
    }
  },
  "cells": [
    {
      "cell_type": "markdown",
      "metadata": {
        "id": "view-in-github",
        "colab_type": "text"
      },
      "source": [
        "<a href=\"https://colab.research.google.com/github/anamhayat/anamhayat/blob/main/CRISPR_CAS9.ipynb\" target=\"_parent\"><img src=\"https://colab.research.google.com/assets/colab-badge.svg\" alt=\"Open In Colab\"/></a>"
      ]
    },
    {
      "cell_type": "code",
      "metadata": {
        "colab": {
          "base_uri": "https://localhost:8080/"
        },
        "id": "oTyo_FEsg3bH",
        "outputId": "4760b16a-215f-4acc-bae1-dd1d5a9a3883"
      },
      "source": [
        "from google.colab import  drive\n",
        "drive.mount ('/content/drive/')"
      ],
      "execution_count": null,
      "outputs": [
        {
          "output_type": "stream",
          "text": [
            "Drive already mounted at /content/drive/; to attempt to forcibly remount, call drive.mount(\"/content/drive/\", force_remount=True).\n"
          ],
          "name": "stdout"
        }
      ]
    },
    {
      "cell_type": "code",
      "metadata": {
        "id": "mbUIvbHRoXAI"
      },
      "source": [
        "! pip install -q keras"
      ],
      "execution_count": null,
      "outputs": []
    },
    {
      "cell_type": "code",
      "metadata": {
        "id": "TXZRpFC9oemJ"
      },
      "source": [
        "import keras"
      ],
      "execution_count": null,
      "outputs": []
    }
  ]
}